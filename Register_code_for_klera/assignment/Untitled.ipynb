{
 "cells": [
  {
   "cell_type": "code",
   "execution_count": 1,
   "id": "ef1f1d45",
   "metadata": {},
   "outputs": [],
   "source": [
    "list1=[1,2,3,4]\n",
    "list2=[2,1,3,4]\n",
    "list3=[4,2,1,3]"
   ]
  },
  {
   "cell_type": "code",
   "execution_count": 2,
   "id": "b8dd12b4",
   "metadata": {},
   "outputs": [],
   "source": [
    "list4=[list1,list2,list3]"
   ]
  },
  {
   "cell_type": "code",
   "execution_count": 3,
   "id": "beabbf17",
   "metadata": {},
   "outputs": [
    {
     "data": {
      "text/plain": [
       "[[1, 2, 3, 4], [2, 1, 3, 4], [4, 2, 1, 3]]"
      ]
     },
     "execution_count": 3,
     "metadata": {},
     "output_type": "execute_result"
    }
   ],
   "source": [
    "list4"
   ]
  },
  {
   "cell_type": "code",
   "execution_count": 4,
   "id": "32a048fd",
   "metadata": {},
   "outputs": [],
   "source": [
    "import pandas as pd"
   ]
  },
  {
   "cell_type": "code",
   "execution_count": 5,
   "id": "2f212dbc",
   "metadata": {},
   "outputs": [],
   "source": [
    "df=pd.DataFrame(list4)"
   ]
  },
  {
   "cell_type": "code",
   "execution_count": 7,
   "id": "e5626570",
   "metadata": {},
   "outputs": [
    {
     "data": {
      "text/plain": [
       "4"
      ]
     },
     "execution_count": 7,
     "metadata": {},
     "output_type": "execute_result"
    }
   ],
   "source": [
    "df.shape[1]"
   ]
  },
  {
   "cell_type": "code",
   "execution_count": null,
   "id": "16deb9ad",
   "metadata": {},
   "outputs": [],
   "source": []
  },
  {
   "cell_type": "code",
   "execution_count": 15,
   "id": "2635acce",
   "metadata": {},
   "outputs": [],
   "source": [
    "dict1.setdefault(\"Anurag\",[]).append(\"ab2\")"
   ]
  },
  {
   "cell_type": "code",
   "execution_count": 16,
   "id": "1d7951f9",
   "metadata": {},
   "outputs": [
    {
     "data": {
      "text/plain": [
       "{'Anurag': ['ab', 'ab1', 'ab2', 'ab2']}"
      ]
     },
     "execution_count": 16,
     "metadata": {},
     "output_type": "execute_result"
    }
   ],
   "source": [
    "dict1"
   ]
  },
  {
   "cell_type": "code",
   "execution_count": null,
   "id": "3876a7e2",
   "metadata": {},
   "outputs": [],
   "source": []
  },
  {
   "cell_type": "code",
   "execution_count": null,
   "id": "bd2c0f6c",
   "metadata": {},
   "outputs": [],
   "source": []
  }
 ],
 "metadata": {
  "kernelspec": {
   "display_name": "Python 3 (ipykernel)",
   "language": "python",
   "name": "python3"
  },
  "language_info": {
   "codemirror_mode": {
    "name": "ipython",
    "version": 3
   },
   "file_extension": ".py",
   "mimetype": "text/x-python",
   "name": "python",
   "nbconvert_exporter": "python",
   "pygments_lexer": "ipython3",
   "version": "3.9.12"
  }
 },
 "nbformat": 4,
 "nbformat_minor": 5
}
