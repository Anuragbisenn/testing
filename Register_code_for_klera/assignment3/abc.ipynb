{
 "cells": [
  {
   "cell_type": "code",
   "execution_count": 27,
   "metadata": {},
   "outputs": [
    {
     "name": "stdout",
     "output_type": "stream",
     "text": [
      "Done...\n"
     ]
    }
   ],
   "source": [
    "import string\n",
    "import requests\n",
    "import json\n",
    "import pandas as pd\n",
    "\n",
    "\n",
    "username = \"admin\"\n",
    "password = \"Ctadmin@123\"\n",
    "url=\"http://54.215.87.148:8080/rest/api/2/user/search?username=\"\n",
    "letters=[]\n",
    "name_list=[]\n",
    "self_list=[]\n",
    "key_list=[]\n",
    "email_list=[]\n",
    "Displayname_list=[]\n",
    "Active_list=[]\n",
    "del_list=[]\n",
    "Timezone_list=[]\n",
    "locel_list=[]\n",
    "list48=[]\n",
    "list24=[]\n",
    "list16=[]\n",
    "list32=[]\n",
    "\n",
    "for letter in string.ascii_lowercase:\n",
    "   letters.append(letter)\n",
    "\n",
    "\n",
    "for letter in letters:\n",
    "   response_API = requests.get(url+letter,auth=(username,password))\n",
    "   data1=response_API.text\n",
    "   parse_json = json.loads(data1)\n",
    "   a=len(parse_json)\n",
    "   for i in range(a):\n",
    "\n",
    "    b=parse_json[i]['name']\n",
    "    if b not in name_list:\n",
    "      name_list.append(b)\n",
    "\n",
    "      c=parse_json[i]['emailAddress']\n",
    "      email_list.append(c)\n",
    "\n",
    "      d=parse_json[i]['key']\n",
    "      key_list.append(d)\n",
    "    \n",
    "      e=parse_json[i]['displayName']\n",
    "      Displayname_list.append(e)\n",
    "\n",
    "      f=parse_json[i]['active']\n",
    "      Active_list.append(f)\n",
    "\n",
    "      g=parse_json[i]['deleted']\n",
    "      del_list.append(g)\n",
    "\n",
    "      h=parse_json[i]['timeZone']\n",
    "      Timezone_list.append(h)\n",
    "\n",
    "      j=parse_json[i]['locale']\n",
    "      locel_list.append(j)\n",
    "\n",
    "      k=parse_json[i]['avatarUrls']['16x16']\n",
    "      list16.append(k)\n",
    "\n",
    "      l=parse_json[i]['avatarUrls']['24x24']\n",
    "      list24.append(l)\n",
    "\n",
    "      m=parse_json[i]['avatarUrls']['32x32']\n",
    "      list32.append(m)\n",
    "\n",
    "      n=parse_json[i]['avatarUrls']['48x48']\n",
    "      list48.append(n)\n",
    "\n",
    "      o=parse_json[i]['self']\n",
    "      self_list.append(o)\n",
    "\n",
    "\"\"\"print(len(name_list),len(key_list),len(email_list),len(list16),len(list24),len(list32),len(list48),len(locel_list),len(Displayname_list),len(self_list),\n",
    "len(Active_list),len(del_list),len(Timezone_list))\"\"\"\n",
    "\n",
    "      \n",
    "    \n",
    "\n",
    "\n",
    "df=pd.DataFrame({\n",
    "  'Name':name_list,\n",
    "  'Email':email_list,\n",
    "  'Key':key_list,\n",
    "  'Display Name':Displayname_list,\n",
    "  'Active':Active_list,\n",
    "  'Deleted':del_list,\n",
    "  'TimeZone':Timezone_list,\n",
    "  'Locale':locel_list,\n",
    "  'Self':self_list,\n",
    "  'AvtarUrl 16x16':list16,\n",
    "  'AvtarUrl 24x24':list24,\n",
    "  'AvtarUrl 32x32':list32,\n",
    "  'AvtarUrl 48x48':list48\n",
    "\n",
    "})\n",
    "\n",
    "df.to_csv('Users_data13.csv')\n",
    "\n",
    "print(\"Done...\")\n"
   ]
  },
  {
   "cell_type": "code",
   "execution_count": null,
   "metadata": {},
   "outputs": [],
   "source": []
  },
  {
   "cell_type": "code",
   "execution_count": null,
   "metadata": {},
   "outputs": [],
   "source": []
  },
  {
   "cell_type": "code",
   "execution_count": 1,
   "metadata": {},
   "outputs": [
    {
     "name": "stdout",
     "output_type": "stream",
     "text": [
      "Alphabet from a-z:\n"
     ]
    }
   ],
   "source": [
    "import string\n",
    "import requests\n",
    "import json\n",
    "import pandas as pd\n",
    "\n",
    "\n",
    "username = \"admin\"\n",
    "password = \"Ctadmin@123\"\n",
    "url=\"http://54.215.87.148:8080/rest/api/2/user/search?username=\"\n",
    "letters=[]\n",
    "name_list=[]\n",
    "print(\"Alphabet from a-z:\")\n",
    "for letter in string.ascii_lowercase:\n",
    "   letters.append(letter)\n",
    "\n",
    "for letter in letters:\n",
    "   response_API = requests.get(url+letter,auth=(username,password))\n",
    "   data1=response_API.text\n",
    "   parse_json = json.loads(data1)\n",
    "   a=len(parse_json)\n",
    "   for i in range(a):\n",
    "    b=parse_json[i]['name']\n",
    "    name_list.append(b)\n",
    "my_set=set(name_list)\n",
    "df=pd.DataFrame(my_set)\n",
    "#df.to_csv('Users_data.csv')\n"
   ]
  },
  {
   "cell_type": "code",
   "execution_count": 3,
   "metadata": {},
   "outputs": [
    {
     "ename": "IndexError",
     "evalue": "list index out of range",
     "output_type": "error",
     "traceback": [
      "\u001b[1;31m---------------------------------------------------------------------------\u001b[0m",
      "\u001b[1;31mIndexError\u001b[0m                                Traceback (most recent call last)",
      "\u001b[1;32mc:\\Users\\anurag.bisen\\Desktop\\assignment3\\abc.ipynb Cell 7'\u001b[0m in \u001b[0;36m<cell line: 1>\u001b[1;34m()\u001b[0m\n\u001b[1;32m----> <a href='vscode-notebook-cell:/c%3A/Users/anurag.bisen/Desktop/assignment3/abc.ipynb#ch0000006?line=0'>1</a>\u001b[0m parse_json[\u001b[39m1\u001b[39;49m][\u001b[39m'\u001b[39m\u001b[39mname\u001b[39m\u001b[39m'\u001b[39m]\n",
      "\u001b[1;31mIndexError\u001b[0m: list index out of range"
     ]
    }
   ],
   "source": [
    "parse_json[1]['name']"
   ]
  },
  {
   "cell_type": "code",
   "execution_count": 5,
   "metadata": {},
   "outputs": [],
   "source": [
    "import string\n",
    "import requests\n",
    "import json\n",
    "import pandas as pd\n",
    "\n",
    "\n",
    "username = \"admin\"\n",
    "password = \"Ctadmin@123\"\n",
    "url=\"http://54.215.87.148:8080/rest/api/2/user/search?username=\"+'a'\n",
    "\n",
    "response_API = requests.get(url,auth=(username,password))\n",
    "data1=response_API.text\n",
    "parse_json = json.loads(data1)"
   ]
  },
  {
   "cell_type": "code",
   "execution_count": 11,
   "metadata": {},
   "outputs": [
    {
     "data": {
      "text/plain": [
       "'http://54.215.87.148:8080/secure/useravatar?size=small&avatarId=10341'"
      ]
     },
     "execution_count": 11,
     "metadata": {},
     "output_type": "execute_result"
    }
   ],
   "source": [
    "parse_json[0]['avatarUrls']['24x24']"
   ]
  },
  {
   "cell_type": "code",
   "execution_count": 13,
   "metadata": {},
   "outputs": [],
   "source": [
    "list1=[]\n",
    "list1.append(1)"
   ]
  },
  {
   "cell_type": "code",
   "execution_count": 14,
   "metadata": {},
   "outputs": [],
   "source": [
    "list1.append('')"
   ]
  },
  {
   "cell_type": "code",
   "execution_count": 15,
   "metadata": {},
   "outputs": [],
   "source": [
    "list1.append(2)"
   ]
  },
  {
   "cell_type": "code",
   "execution_count": 17,
   "metadata": {},
   "outputs": [],
   "source": []
  },
  {
   "cell_type": "code",
   "execution_count": 19,
   "metadata": {},
   "outputs": [
    {
     "data": {
      "text/plain": [
       "[1, None, 2]"
      ]
     },
     "execution_count": 19,
     "metadata": {},
     "output_type": "execute_result"
    }
   ],
   "source": [
    "list1"
   ]
  },
  {
   "cell_type": "code",
   "execution_count": 21,
   "metadata": {},
   "outputs": [],
   "source": [
    "d=pd.DataFrame({'data':list1})"
   ]
  },
  {
   "cell_type": "code",
   "execution_count": 22,
   "metadata": {},
   "outputs": [],
   "source": [
    "d.to_csv('test_case.csv')"
   ]
  },
  {
   "cell_type": "code",
   "execution_count": 23,
   "metadata": {},
   "outputs": [
    {
     "data": {
      "text/plain": [
       "3"
      ]
     },
     "execution_count": 23,
     "metadata": {},
     "output_type": "execute_result"
    }
   ],
   "source": [
    "len(list1)"
   ]
  },
  {
   "cell_type": "code",
   "execution_count": null,
   "metadata": {},
   "outputs": [],
   "source": [
    "import string\n",
    "import requests\n",
    "import json\n",
    "import pandas as pd\n",
    "\n",
    "\n",
    "username = \"admin\"\n",
    "password = \"Ctadmin@123\"\n",
    "url=\"http://54.215.87.148:8080/rest/api/2/user/search?username=\"\n",
    "letters=[]\n",
    "name_list=[]\n",
    "print(\"Alphabet from a-z:\")\n",
    "for letter in string.ascii_lowercase:\n",
    "   letters.append(letter)\n",
    "\n",
    "for letter in letters:\n",
    "   response_API = requests.get(url+letter,auth=(username,password))\n",
    "   data1=response_API.text\n",
    "   parse_json = json.loads(data1)\n",
    "   a=len(parse_json)\n",
    "   for i in range(a):\n",
    "    b=parse_json[i]['name']\n",
    "    name_list.append(b)\n",
    "my_set=set(name_list)\n",
    "df=pd.DataFrame(my_set)\n",
    "#df.to_csv('Users_data.csv')\n"
   ]
  },
  {
   "cell_type": "code",
   "execution_count": null,
   "metadata": {},
   "outputs": [],
   "source": []
  },
  {
   "cell_type": "code",
   "execution_count": 67,
   "metadata": {},
   "outputs": [
    {
     "ename": "KeyboardInterrupt",
     "evalue": "",
     "output_type": "error",
     "traceback": [
      "\u001b[1;31m---------------------------------------------------------------------------\u001b[0m",
      "\u001b[1;31mKeyboardInterrupt\u001b[0m                         Traceback (most recent call last)",
      "\u001b[1;32mc:\\Users\\anurag.bisen\\Desktop\\assignment3\\abc.ipynb Cell 20'\u001b[0m in \u001b[0;36m<cell line: 34>\u001b[1;34m()\u001b[0m\n\u001b[0;32m     <a href='vscode-notebook-cell:/c%3A/Users/anurag.bisen/Desktop/assignment3/abc.ipynb#ch0000022?line=30'>31</a>\u001b[0m    letters\u001b[39m.\u001b[39mappend(letter)\n\u001b[0;32m     <a href='vscode-notebook-cell:/c%3A/Users/anurag.bisen/Desktop/assignment3/abc.ipynb#ch0000022?line=33'>34</a>\u001b[0m \u001b[39mfor\u001b[39;00m letter \u001b[39min\u001b[39;00m letters:\n\u001b[1;32m---> <a href='vscode-notebook-cell:/c%3A/Users/anurag.bisen/Desktop/assignment3/abc.ipynb#ch0000022?line=37'>38</a>\u001b[0m   response_API \u001b[39m=\u001b[39m requests\u001b[39m.\u001b[39;49mget(url\u001b[39m+\u001b[39;49mletter\u001b[39m+\u001b[39;49m\u001b[39m\"\u001b[39;49m\u001b[39m&maxResults=\u001b[39;49m\u001b[39m\"\u001b[39;49m\u001b[39m+\u001b[39;49m\u001b[39mstr\u001b[39;49m(max1)\u001b[39m+\u001b[39;49m\u001b[39m\"\u001b[39;49m\u001b[39m&startAt=\u001b[39;49m\u001b[39m\"\u001b[39;49m\u001b[39m+\u001b[39;49m\u001b[39mstr\u001b[39;49m(start1),auth\u001b[39m=\u001b[39;49m(username,password))\n\u001b[0;32m     <a href='vscode-notebook-cell:/c%3A/Users/anurag.bisen/Desktop/assignment3/abc.ipynb#ch0000022?line=38'>39</a>\u001b[0m   data1\u001b[39m=\u001b[39mresponse_API\u001b[39m.\u001b[39mtext\n\u001b[0;32m     <a href='vscode-notebook-cell:/c%3A/Users/anurag.bisen/Desktop/assignment3/abc.ipynb#ch0000022?line=39'>40</a>\u001b[0m   parse_json \u001b[39m=\u001b[39m json\u001b[39m.\u001b[39mloads(data1)\n",
      "File \u001b[1;32m~\\AppData\\Roaming\\Python\\Python310\\site-packages\\requests\\api.py:75\u001b[0m, in \u001b[0;36mget\u001b[1;34m(url, params, **kwargs)\u001b[0m\n\u001b[0;32m     <a href='file:///c%3A/Users/anurag.bisen/AppData/Roaming/Python/Python310/site-packages/requests/api.py?line=63'>64</a>\u001b[0m \u001b[39mdef\u001b[39;00m \u001b[39mget\u001b[39m(url, params\u001b[39m=\u001b[39m\u001b[39mNone\u001b[39;00m, \u001b[39m*\u001b[39m\u001b[39m*\u001b[39mkwargs):\n\u001b[0;32m     <a href='file:///c%3A/Users/anurag.bisen/AppData/Roaming/Python/Python310/site-packages/requests/api.py?line=64'>65</a>\u001b[0m     \u001b[39mr\u001b[39m\u001b[39m\"\"\"Sends a GET request.\u001b[39;00m\n\u001b[0;32m     <a href='file:///c%3A/Users/anurag.bisen/AppData/Roaming/Python/Python310/site-packages/requests/api.py?line=65'>66</a>\u001b[0m \n\u001b[0;32m     <a href='file:///c%3A/Users/anurag.bisen/AppData/Roaming/Python/Python310/site-packages/requests/api.py?line=66'>67</a>\u001b[0m \u001b[39m    :param url: URL for the new :class:`Request` object.\u001b[39;00m\n\u001b[1;32m   (...)\u001b[0m\n\u001b[0;32m     <a href='file:///c%3A/Users/anurag.bisen/AppData/Roaming/Python/Python310/site-packages/requests/api.py?line=71'>72</a>\u001b[0m \u001b[39m    :rtype: requests.Response\u001b[39;00m\n\u001b[0;32m     <a href='file:///c%3A/Users/anurag.bisen/AppData/Roaming/Python/Python310/site-packages/requests/api.py?line=72'>73</a>\u001b[0m \u001b[39m    \"\"\"\u001b[39;00m\n\u001b[1;32m---> <a href='file:///c%3A/Users/anurag.bisen/AppData/Roaming/Python/Python310/site-packages/requests/api.py?line=74'>75</a>\u001b[0m     \u001b[39mreturn\u001b[39;00m request(\u001b[39m'\u001b[39m\u001b[39mget\u001b[39m\u001b[39m'\u001b[39m, url, params\u001b[39m=\u001b[39mparams, \u001b[39m*\u001b[39m\u001b[39m*\u001b[39mkwargs)\n",
      "File \u001b[1;32m~\\AppData\\Roaming\\Python\\Python310\\site-packages\\requests\\api.py:61\u001b[0m, in \u001b[0;36mrequest\u001b[1;34m(method, url, **kwargs)\u001b[0m\n\u001b[0;32m     <a href='file:///c%3A/Users/anurag.bisen/AppData/Roaming/Python/Python310/site-packages/requests/api.py?line=56'>57</a>\u001b[0m \u001b[39m# By using the 'with' statement we are sure the session is closed, thus we\u001b[39;00m\n\u001b[0;32m     <a href='file:///c%3A/Users/anurag.bisen/AppData/Roaming/Python/Python310/site-packages/requests/api.py?line=57'>58</a>\u001b[0m \u001b[39m# avoid leaving sockets open which can trigger a ResourceWarning in some\u001b[39;00m\n\u001b[0;32m     <a href='file:///c%3A/Users/anurag.bisen/AppData/Roaming/Python/Python310/site-packages/requests/api.py?line=58'>59</a>\u001b[0m \u001b[39m# cases, and look like a memory leak in others.\u001b[39;00m\n\u001b[0;32m     <a href='file:///c%3A/Users/anurag.bisen/AppData/Roaming/Python/Python310/site-packages/requests/api.py?line=59'>60</a>\u001b[0m \u001b[39mwith\u001b[39;00m sessions\u001b[39m.\u001b[39mSession() \u001b[39mas\u001b[39;00m session:\n\u001b[1;32m---> <a href='file:///c%3A/Users/anurag.bisen/AppData/Roaming/Python/Python310/site-packages/requests/api.py?line=60'>61</a>\u001b[0m     \u001b[39mreturn\u001b[39;00m session\u001b[39m.\u001b[39mrequest(method\u001b[39m=\u001b[39mmethod, url\u001b[39m=\u001b[39murl, \u001b[39m*\u001b[39m\u001b[39m*\u001b[39mkwargs)\n",
      "File \u001b[1;32m~\\AppData\\Roaming\\Python\\Python310\\site-packages\\requests\\sessions.py:529\u001b[0m, in \u001b[0;36mSession.request\u001b[1;34m(self, method, url, params, data, headers, cookies, files, auth, timeout, allow_redirects, proxies, hooks, stream, verify, cert, json)\u001b[0m\n\u001b[0;32m    <a href='file:///c%3A/Users/anurag.bisen/AppData/Roaming/Python/Python310/site-packages/requests/sessions.py?line=523'>524</a>\u001b[0m send_kwargs \u001b[39m=\u001b[39m {\n\u001b[0;32m    <a href='file:///c%3A/Users/anurag.bisen/AppData/Roaming/Python/Python310/site-packages/requests/sessions.py?line=524'>525</a>\u001b[0m     \u001b[39m'\u001b[39m\u001b[39mtimeout\u001b[39m\u001b[39m'\u001b[39m: timeout,\n\u001b[0;32m    <a href='file:///c%3A/Users/anurag.bisen/AppData/Roaming/Python/Python310/site-packages/requests/sessions.py?line=525'>526</a>\u001b[0m     \u001b[39m'\u001b[39m\u001b[39mallow_redirects\u001b[39m\u001b[39m'\u001b[39m: allow_redirects,\n\u001b[0;32m    <a href='file:///c%3A/Users/anurag.bisen/AppData/Roaming/Python/Python310/site-packages/requests/sessions.py?line=526'>527</a>\u001b[0m }\n\u001b[0;32m    <a href='file:///c%3A/Users/anurag.bisen/AppData/Roaming/Python/Python310/site-packages/requests/sessions.py?line=527'>528</a>\u001b[0m send_kwargs\u001b[39m.\u001b[39mupdate(settings)\n\u001b[1;32m--> <a href='file:///c%3A/Users/anurag.bisen/AppData/Roaming/Python/Python310/site-packages/requests/sessions.py?line=528'>529</a>\u001b[0m resp \u001b[39m=\u001b[39m \u001b[39mself\u001b[39m\u001b[39m.\u001b[39msend(prep, \u001b[39m*\u001b[39m\u001b[39m*\u001b[39msend_kwargs)\n\u001b[0;32m    <a href='file:///c%3A/Users/anurag.bisen/AppData/Roaming/Python/Python310/site-packages/requests/sessions.py?line=530'>531</a>\u001b[0m \u001b[39mreturn\u001b[39;00m resp\n",
      "File \u001b[1;32m~\\AppData\\Roaming\\Python\\Python310\\site-packages\\requests\\sessions.py:645\u001b[0m, in \u001b[0;36mSession.send\u001b[1;34m(self, request, **kwargs)\u001b[0m\n\u001b[0;32m    <a href='file:///c%3A/Users/anurag.bisen/AppData/Roaming/Python/Python310/site-packages/requests/sessions.py?line=641'>642</a>\u001b[0m start \u001b[39m=\u001b[39m preferred_clock()\n\u001b[0;32m    <a href='file:///c%3A/Users/anurag.bisen/AppData/Roaming/Python/Python310/site-packages/requests/sessions.py?line=643'>644</a>\u001b[0m \u001b[39m# Send the request\u001b[39;00m\n\u001b[1;32m--> <a href='file:///c%3A/Users/anurag.bisen/AppData/Roaming/Python/Python310/site-packages/requests/sessions.py?line=644'>645</a>\u001b[0m r \u001b[39m=\u001b[39m adapter\u001b[39m.\u001b[39msend(request, \u001b[39m*\u001b[39m\u001b[39m*\u001b[39mkwargs)\n\u001b[0;32m    <a href='file:///c%3A/Users/anurag.bisen/AppData/Roaming/Python/Python310/site-packages/requests/sessions.py?line=646'>647</a>\u001b[0m \u001b[39m# Total elapsed time of the request (approximately)\u001b[39;00m\n\u001b[0;32m    <a href='file:///c%3A/Users/anurag.bisen/AppData/Roaming/Python/Python310/site-packages/requests/sessions.py?line=647'>648</a>\u001b[0m elapsed \u001b[39m=\u001b[39m preferred_clock() \u001b[39m-\u001b[39m start\n",
      "File \u001b[1;32m~\\AppData\\Roaming\\Python\\Python310\\site-packages\\requests\\adapters.py:440\u001b[0m, in \u001b[0;36mHTTPAdapter.send\u001b[1;34m(self, request, stream, timeout, verify, cert, proxies)\u001b[0m\n\u001b[0;32m    <a href='file:///c%3A/Users/anurag.bisen/AppData/Roaming/Python/Python310/site-packages/requests/adapters.py?line=437'>438</a>\u001b[0m \u001b[39mtry\u001b[39;00m:\n\u001b[0;32m    <a href='file:///c%3A/Users/anurag.bisen/AppData/Roaming/Python/Python310/site-packages/requests/adapters.py?line=438'>439</a>\u001b[0m     \u001b[39mif\u001b[39;00m \u001b[39mnot\u001b[39;00m chunked:\n\u001b[1;32m--> <a href='file:///c%3A/Users/anurag.bisen/AppData/Roaming/Python/Python310/site-packages/requests/adapters.py?line=439'>440</a>\u001b[0m         resp \u001b[39m=\u001b[39m conn\u001b[39m.\u001b[39;49murlopen(\n\u001b[0;32m    <a href='file:///c%3A/Users/anurag.bisen/AppData/Roaming/Python/Python310/site-packages/requests/adapters.py?line=440'>441</a>\u001b[0m             method\u001b[39m=\u001b[39;49mrequest\u001b[39m.\u001b[39;49mmethod,\n\u001b[0;32m    <a href='file:///c%3A/Users/anurag.bisen/AppData/Roaming/Python/Python310/site-packages/requests/adapters.py?line=441'>442</a>\u001b[0m             url\u001b[39m=\u001b[39;49murl,\n\u001b[0;32m    <a href='file:///c%3A/Users/anurag.bisen/AppData/Roaming/Python/Python310/site-packages/requests/adapters.py?line=442'>443</a>\u001b[0m             body\u001b[39m=\u001b[39;49mrequest\u001b[39m.\u001b[39;49mbody,\n\u001b[0;32m    <a href='file:///c%3A/Users/anurag.bisen/AppData/Roaming/Python/Python310/site-packages/requests/adapters.py?line=443'>444</a>\u001b[0m             headers\u001b[39m=\u001b[39;49mrequest\u001b[39m.\u001b[39;49mheaders,\n\u001b[0;32m    <a href='file:///c%3A/Users/anurag.bisen/AppData/Roaming/Python/Python310/site-packages/requests/adapters.py?line=444'>445</a>\u001b[0m             redirect\u001b[39m=\u001b[39;49m\u001b[39mFalse\u001b[39;49;00m,\n\u001b[0;32m    <a href='file:///c%3A/Users/anurag.bisen/AppData/Roaming/Python/Python310/site-packages/requests/adapters.py?line=445'>446</a>\u001b[0m             assert_same_host\u001b[39m=\u001b[39;49m\u001b[39mFalse\u001b[39;49;00m,\n\u001b[0;32m    <a href='file:///c%3A/Users/anurag.bisen/AppData/Roaming/Python/Python310/site-packages/requests/adapters.py?line=446'>447</a>\u001b[0m             preload_content\u001b[39m=\u001b[39;49m\u001b[39mFalse\u001b[39;49;00m,\n\u001b[0;32m    <a href='file:///c%3A/Users/anurag.bisen/AppData/Roaming/Python/Python310/site-packages/requests/adapters.py?line=447'>448</a>\u001b[0m             decode_content\u001b[39m=\u001b[39;49m\u001b[39mFalse\u001b[39;49;00m,\n\u001b[0;32m    <a href='file:///c%3A/Users/anurag.bisen/AppData/Roaming/Python/Python310/site-packages/requests/adapters.py?line=448'>449</a>\u001b[0m             retries\u001b[39m=\u001b[39;49m\u001b[39mself\u001b[39;49m\u001b[39m.\u001b[39;49mmax_retries,\n\u001b[0;32m    <a href='file:///c%3A/Users/anurag.bisen/AppData/Roaming/Python/Python310/site-packages/requests/adapters.py?line=449'>450</a>\u001b[0m             timeout\u001b[39m=\u001b[39;49mtimeout\n\u001b[0;32m    <a href='file:///c%3A/Users/anurag.bisen/AppData/Roaming/Python/Python310/site-packages/requests/adapters.py?line=450'>451</a>\u001b[0m         )\n\u001b[0;32m    <a href='file:///c%3A/Users/anurag.bisen/AppData/Roaming/Python/Python310/site-packages/requests/adapters.py?line=452'>453</a>\u001b[0m     \u001b[39m# Send the request.\u001b[39;00m\n\u001b[0;32m    <a href='file:///c%3A/Users/anurag.bisen/AppData/Roaming/Python/Python310/site-packages/requests/adapters.py?line=453'>454</a>\u001b[0m     \u001b[39melse\u001b[39;00m:\n\u001b[0;32m    <a href='file:///c%3A/Users/anurag.bisen/AppData/Roaming/Python/Python310/site-packages/requests/adapters.py?line=454'>455</a>\u001b[0m         \u001b[39mif\u001b[39;00m \u001b[39mhasattr\u001b[39m(conn, \u001b[39m'\u001b[39m\u001b[39mproxy_pool\u001b[39m\u001b[39m'\u001b[39m):\n",
      "File \u001b[1;32m~\\AppData\\Roaming\\Python\\Python310\\site-packages\\urllib3\\connectionpool.py:703\u001b[0m, in \u001b[0;36mHTTPConnectionPool.urlopen\u001b[1;34m(self, method, url, body, headers, retries, redirect, assert_same_host, timeout, pool_timeout, release_conn, chunked, body_pos, **response_kw)\u001b[0m\n\u001b[0;32m    <a href='file:///c%3A/Users/anurag.bisen/AppData/Roaming/Python/Python310/site-packages/urllib3/connectionpool.py?line=699'>700</a>\u001b[0m     \u001b[39mself\u001b[39m\u001b[39m.\u001b[39m_prepare_proxy(conn)\n\u001b[0;32m    <a href='file:///c%3A/Users/anurag.bisen/AppData/Roaming/Python/Python310/site-packages/urllib3/connectionpool.py?line=701'>702</a>\u001b[0m \u001b[39m# Make the request on the httplib connection object.\u001b[39;00m\n\u001b[1;32m--> <a href='file:///c%3A/Users/anurag.bisen/AppData/Roaming/Python/Python310/site-packages/urllib3/connectionpool.py?line=702'>703</a>\u001b[0m httplib_response \u001b[39m=\u001b[39m \u001b[39mself\u001b[39;49m\u001b[39m.\u001b[39;49m_make_request(\n\u001b[0;32m    <a href='file:///c%3A/Users/anurag.bisen/AppData/Roaming/Python/Python310/site-packages/urllib3/connectionpool.py?line=703'>704</a>\u001b[0m     conn,\n\u001b[0;32m    <a href='file:///c%3A/Users/anurag.bisen/AppData/Roaming/Python/Python310/site-packages/urllib3/connectionpool.py?line=704'>705</a>\u001b[0m     method,\n\u001b[0;32m    <a href='file:///c%3A/Users/anurag.bisen/AppData/Roaming/Python/Python310/site-packages/urllib3/connectionpool.py?line=705'>706</a>\u001b[0m     url,\n\u001b[0;32m    <a href='file:///c%3A/Users/anurag.bisen/AppData/Roaming/Python/Python310/site-packages/urllib3/connectionpool.py?line=706'>707</a>\u001b[0m     timeout\u001b[39m=\u001b[39;49mtimeout_obj,\n\u001b[0;32m    <a href='file:///c%3A/Users/anurag.bisen/AppData/Roaming/Python/Python310/site-packages/urllib3/connectionpool.py?line=707'>708</a>\u001b[0m     body\u001b[39m=\u001b[39;49mbody,\n\u001b[0;32m    <a href='file:///c%3A/Users/anurag.bisen/AppData/Roaming/Python/Python310/site-packages/urllib3/connectionpool.py?line=708'>709</a>\u001b[0m     headers\u001b[39m=\u001b[39;49mheaders,\n\u001b[0;32m    <a href='file:///c%3A/Users/anurag.bisen/AppData/Roaming/Python/Python310/site-packages/urllib3/connectionpool.py?line=709'>710</a>\u001b[0m     chunked\u001b[39m=\u001b[39;49mchunked,\n\u001b[0;32m    <a href='file:///c%3A/Users/anurag.bisen/AppData/Roaming/Python/Python310/site-packages/urllib3/connectionpool.py?line=710'>711</a>\u001b[0m )\n\u001b[0;32m    <a href='file:///c%3A/Users/anurag.bisen/AppData/Roaming/Python/Python310/site-packages/urllib3/connectionpool.py?line=712'>713</a>\u001b[0m \u001b[39m# If we're going to release the connection in ``finally:``, then\u001b[39;00m\n\u001b[0;32m    <a href='file:///c%3A/Users/anurag.bisen/AppData/Roaming/Python/Python310/site-packages/urllib3/connectionpool.py?line=713'>714</a>\u001b[0m \u001b[39m# the response doesn't need to know about the connection. Otherwise\u001b[39;00m\n\u001b[0;32m    <a href='file:///c%3A/Users/anurag.bisen/AppData/Roaming/Python/Python310/site-packages/urllib3/connectionpool.py?line=714'>715</a>\u001b[0m \u001b[39m# it will also try to release it and we'll have a double-release\u001b[39;00m\n\u001b[0;32m    <a href='file:///c%3A/Users/anurag.bisen/AppData/Roaming/Python/Python310/site-packages/urllib3/connectionpool.py?line=715'>716</a>\u001b[0m \u001b[39m# mess.\u001b[39;00m\n\u001b[0;32m    <a href='file:///c%3A/Users/anurag.bisen/AppData/Roaming/Python/Python310/site-packages/urllib3/connectionpool.py?line=716'>717</a>\u001b[0m response_conn \u001b[39m=\u001b[39m conn \u001b[39mif\u001b[39;00m \u001b[39mnot\u001b[39;00m release_conn \u001b[39melse\u001b[39;00m \u001b[39mNone\u001b[39;00m\n",
      "File \u001b[1;32m~\\AppData\\Roaming\\Python\\Python310\\site-packages\\urllib3\\connectionpool.py:398\u001b[0m, in \u001b[0;36mHTTPConnectionPool._make_request\u001b[1;34m(self, conn, method, url, timeout, chunked, **httplib_request_kw)\u001b[0m\n\u001b[0;32m    <a href='file:///c%3A/Users/anurag.bisen/AppData/Roaming/Python/Python310/site-packages/urllib3/connectionpool.py?line=395'>396</a>\u001b[0m         conn\u001b[39m.\u001b[39mrequest_chunked(method, url, \u001b[39m*\u001b[39m\u001b[39m*\u001b[39mhttplib_request_kw)\n\u001b[0;32m    <a href='file:///c%3A/Users/anurag.bisen/AppData/Roaming/Python/Python310/site-packages/urllib3/connectionpool.py?line=396'>397</a>\u001b[0m     \u001b[39melse\u001b[39;00m:\n\u001b[1;32m--> <a href='file:///c%3A/Users/anurag.bisen/AppData/Roaming/Python/Python310/site-packages/urllib3/connectionpool.py?line=397'>398</a>\u001b[0m         conn\u001b[39m.\u001b[39mrequest(method, url, \u001b[39m*\u001b[39m\u001b[39m*\u001b[39mhttplib_request_kw)\n\u001b[0;32m    <a href='file:///c%3A/Users/anurag.bisen/AppData/Roaming/Python/Python310/site-packages/urllib3/connectionpool.py?line=399'>400</a>\u001b[0m \u001b[39m# We are swallowing BrokenPipeError (errno.EPIPE) since the server is\u001b[39;00m\n\u001b[0;32m    <a href='file:///c%3A/Users/anurag.bisen/AppData/Roaming/Python/Python310/site-packages/urllib3/connectionpool.py?line=400'>401</a>\u001b[0m \u001b[39m# legitimately able to close the connection after sending a valid response.\u001b[39;00m\n\u001b[0;32m    <a href='file:///c%3A/Users/anurag.bisen/AppData/Roaming/Python/Python310/site-packages/urllib3/connectionpool.py?line=401'>402</a>\u001b[0m \u001b[39m# With this behaviour, the received response is still readable.\u001b[39;00m\n\u001b[0;32m    <a href='file:///c%3A/Users/anurag.bisen/AppData/Roaming/Python/Python310/site-packages/urllib3/connectionpool.py?line=402'>403</a>\u001b[0m \u001b[39mexcept\u001b[39;00m \u001b[39mBrokenPipeError\u001b[39;00m:\n\u001b[0;32m    <a href='file:///c%3A/Users/anurag.bisen/AppData/Roaming/Python/Python310/site-packages/urllib3/connectionpool.py?line=403'>404</a>\u001b[0m     \u001b[39m# Python 3\u001b[39;00m\n",
      "File \u001b[1;32m~\\AppData\\Roaming\\Python\\Python310\\site-packages\\urllib3\\connection.py:239\u001b[0m, in \u001b[0;36mHTTPConnection.request\u001b[1;34m(self, method, url, body, headers)\u001b[0m\n\u001b[0;32m    <a href='file:///c%3A/Users/anurag.bisen/AppData/Roaming/Python/Python310/site-packages/urllib3/connection.py?line=236'>237</a>\u001b[0m \u001b[39mif\u001b[39;00m \u001b[39m\"\u001b[39m\u001b[39muser-agent\u001b[39m\u001b[39m\"\u001b[39m \u001b[39mnot\u001b[39;00m \u001b[39min\u001b[39;00m (six\u001b[39m.\u001b[39mensure_str(k\u001b[39m.\u001b[39mlower()) \u001b[39mfor\u001b[39;00m k \u001b[39min\u001b[39;00m headers):\n\u001b[0;32m    <a href='file:///c%3A/Users/anurag.bisen/AppData/Roaming/Python/Python310/site-packages/urllib3/connection.py?line=237'>238</a>\u001b[0m     headers[\u001b[39m\"\u001b[39m\u001b[39mUser-Agent\u001b[39m\u001b[39m\"\u001b[39m] \u001b[39m=\u001b[39m _get_default_user_agent()\n\u001b[1;32m--> <a href='file:///c%3A/Users/anurag.bisen/AppData/Roaming/Python/Python310/site-packages/urllib3/connection.py?line=238'>239</a>\u001b[0m \u001b[39msuper\u001b[39;49m(HTTPConnection, \u001b[39mself\u001b[39;49m)\u001b[39m.\u001b[39;49mrequest(method, url, body\u001b[39m=\u001b[39;49mbody, headers\u001b[39m=\u001b[39;49mheaders)\n",
      "File \u001b[1;32mc:\\Program Files\\Python310\\lib\\http\\client.py:1282\u001b[0m, in \u001b[0;36mHTTPConnection.request\u001b[1;34m(self, method, url, body, headers, encode_chunked)\u001b[0m\n\u001b[0;32m   <a href='file:///c%3A/Program%20Files/Python310/lib/http/client.py?line=1278'>1279</a>\u001b[0m \u001b[39mdef\u001b[39;00m \u001b[39mrequest\u001b[39m(\u001b[39mself\u001b[39m, method, url, body\u001b[39m=\u001b[39m\u001b[39mNone\u001b[39;00m, headers\u001b[39m=\u001b[39m{}, \u001b[39m*\u001b[39m,\n\u001b[0;32m   <a href='file:///c%3A/Program%20Files/Python310/lib/http/client.py?line=1279'>1280</a>\u001b[0m             encode_chunked\u001b[39m=\u001b[39m\u001b[39mFalse\u001b[39;00m):\n\u001b[0;32m   <a href='file:///c%3A/Program%20Files/Python310/lib/http/client.py?line=1280'>1281</a>\u001b[0m     \u001b[39m\"\"\"Send a complete request to the server.\"\"\"\u001b[39;00m\n\u001b[1;32m-> <a href='file:///c%3A/Program%20Files/Python310/lib/http/client.py?line=1281'>1282</a>\u001b[0m     \u001b[39mself\u001b[39;49m\u001b[39m.\u001b[39;49m_send_request(method, url, body, headers, encode_chunked)\n",
      "File \u001b[1;32mc:\\Program Files\\Python310\\lib\\http\\client.py:1328\u001b[0m, in \u001b[0;36mHTTPConnection._send_request\u001b[1;34m(self, method, url, body, headers, encode_chunked)\u001b[0m\n\u001b[0;32m   <a href='file:///c%3A/Program%20Files/Python310/lib/http/client.py?line=1323'>1324</a>\u001b[0m \u001b[39mif\u001b[39;00m \u001b[39misinstance\u001b[39m(body, \u001b[39mstr\u001b[39m):\n\u001b[0;32m   <a href='file:///c%3A/Program%20Files/Python310/lib/http/client.py?line=1324'>1325</a>\u001b[0m     \u001b[39m# RFC 2616 Section 3.7.1 says that text default has a\u001b[39;00m\n\u001b[0;32m   <a href='file:///c%3A/Program%20Files/Python310/lib/http/client.py?line=1325'>1326</a>\u001b[0m     \u001b[39m# default charset of iso-8859-1.\u001b[39;00m\n\u001b[0;32m   <a href='file:///c%3A/Program%20Files/Python310/lib/http/client.py?line=1326'>1327</a>\u001b[0m     body \u001b[39m=\u001b[39m _encode(body, \u001b[39m'\u001b[39m\u001b[39mbody\u001b[39m\u001b[39m'\u001b[39m)\n\u001b[1;32m-> <a href='file:///c%3A/Program%20Files/Python310/lib/http/client.py?line=1327'>1328</a>\u001b[0m \u001b[39mself\u001b[39;49m\u001b[39m.\u001b[39;49mendheaders(body, encode_chunked\u001b[39m=\u001b[39;49mencode_chunked)\n",
      "File \u001b[1;32mc:\\Program Files\\Python310\\lib\\http\\client.py:1277\u001b[0m, in \u001b[0;36mHTTPConnection.endheaders\u001b[1;34m(self, message_body, encode_chunked)\u001b[0m\n\u001b[0;32m   <a href='file:///c%3A/Program%20Files/Python310/lib/http/client.py?line=1274'>1275</a>\u001b[0m \u001b[39melse\u001b[39;00m:\n\u001b[0;32m   <a href='file:///c%3A/Program%20Files/Python310/lib/http/client.py?line=1275'>1276</a>\u001b[0m     \u001b[39mraise\u001b[39;00m CannotSendHeader()\n\u001b[1;32m-> <a href='file:///c%3A/Program%20Files/Python310/lib/http/client.py?line=1276'>1277</a>\u001b[0m \u001b[39mself\u001b[39;49m\u001b[39m.\u001b[39;49m_send_output(message_body, encode_chunked\u001b[39m=\u001b[39;49mencode_chunked)\n",
      "File \u001b[1;32mc:\\Program Files\\Python310\\lib\\http\\client.py:1037\u001b[0m, in \u001b[0;36mHTTPConnection._send_output\u001b[1;34m(self, message_body, encode_chunked)\u001b[0m\n\u001b[0;32m   <a href='file:///c%3A/Program%20Files/Python310/lib/http/client.py?line=1034'>1035</a>\u001b[0m msg \u001b[39m=\u001b[39m \u001b[39mb\u001b[39m\u001b[39m\"\u001b[39m\u001b[39m\\r\u001b[39;00m\u001b[39m\\n\u001b[39;00m\u001b[39m\"\u001b[39m\u001b[39m.\u001b[39mjoin(\u001b[39mself\u001b[39m\u001b[39m.\u001b[39m_buffer)\n\u001b[0;32m   <a href='file:///c%3A/Program%20Files/Python310/lib/http/client.py?line=1035'>1036</a>\u001b[0m \u001b[39mdel\u001b[39;00m \u001b[39mself\u001b[39m\u001b[39m.\u001b[39m_buffer[:]\n\u001b[1;32m-> <a href='file:///c%3A/Program%20Files/Python310/lib/http/client.py?line=1036'>1037</a>\u001b[0m \u001b[39mself\u001b[39;49m\u001b[39m.\u001b[39;49msend(msg)\n\u001b[0;32m   <a href='file:///c%3A/Program%20Files/Python310/lib/http/client.py?line=1038'>1039</a>\u001b[0m \u001b[39mif\u001b[39;00m message_body \u001b[39mis\u001b[39;00m \u001b[39mnot\u001b[39;00m \u001b[39mNone\u001b[39;00m:\n\u001b[0;32m   <a href='file:///c%3A/Program%20Files/Python310/lib/http/client.py?line=1039'>1040</a>\u001b[0m \n\u001b[0;32m   <a href='file:///c%3A/Program%20Files/Python310/lib/http/client.py?line=1040'>1041</a>\u001b[0m     \u001b[39m# create a consistent interface to message_body\u001b[39;00m\n\u001b[0;32m   <a href='file:///c%3A/Program%20Files/Python310/lib/http/client.py?line=1041'>1042</a>\u001b[0m     \u001b[39mif\u001b[39;00m \u001b[39mhasattr\u001b[39m(message_body, \u001b[39m'\u001b[39m\u001b[39mread\u001b[39m\u001b[39m'\u001b[39m):\n\u001b[0;32m   <a href='file:///c%3A/Program%20Files/Python310/lib/http/client.py?line=1042'>1043</a>\u001b[0m         \u001b[39m# Let file-like take precedence over byte-like.  This\u001b[39;00m\n\u001b[0;32m   <a href='file:///c%3A/Program%20Files/Python310/lib/http/client.py?line=1043'>1044</a>\u001b[0m         \u001b[39m# is needed to allow the current position of mmap'ed\u001b[39;00m\n\u001b[0;32m   <a href='file:///c%3A/Program%20Files/Python310/lib/http/client.py?line=1044'>1045</a>\u001b[0m         \u001b[39m# files to be taken into account.\u001b[39;00m\n",
      "File \u001b[1;32mc:\\Program Files\\Python310\\lib\\http\\client.py:975\u001b[0m, in \u001b[0;36mHTTPConnection.send\u001b[1;34m(self, data)\u001b[0m\n\u001b[0;32m    <a href='file:///c%3A/Program%20Files/Python310/lib/http/client.py?line=972'>973</a>\u001b[0m \u001b[39mif\u001b[39;00m \u001b[39mself\u001b[39m\u001b[39m.\u001b[39msock \u001b[39mis\u001b[39;00m \u001b[39mNone\u001b[39;00m:\n\u001b[0;32m    <a href='file:///c%3A/Program%20Files/Python310/lib/http/client.py?line=973'>974</a>\u001b[0m     \u001b[39mif\u001b[39;00m \u001b[39mself\u001b[39m\u001b[39m.\u001b[39mauto_open:\n\u001b[1;32m--> <a href='file:///c%3A/Program%20Files/Python310/lib/http/client.py?line=974'>975</a>\u001b[0m         \u001b[39mself\u001b[39;49m\u001b[39m.\u001b[39;49mconnect()\n\u001b[0;32m    <a href='file:///c%3A/Program%20Files/Python310/lib/http/client.py?line=975'>976</a>\u001b[0m     \u001b[39melse\u001b[39;00m:\n\u001b[0;32m    <a href='file:///c%3A/Program%20Files/Python310/lib/http/client.py?line=976'>977</a>\u001b[0m         \u001b[39mraise\u001b[39;00m NotConnected()\n",
      "File \u001b[1;32m~\\AppData\\Roaming\\Python\\Python310\\site-packages\\urllib3\\connection.py:205\u001b[0m, in \u001b[0;36mHTTPConnection.connect\u001b[1;34m(self)\u001b[0m\n\u001b[0;32m    <a href='file:///c%3A/Users/anurag.bisen/AppData/Roaming/Python/Python310/site-packages/urllib3/connection.py?line=203'>204</a>\u001b[0m \u001b[39mdef\u001b[39;00m \u001b[39mconnect\u001b[39m(\u001b[39mself\u001b[39m):\n\u001b[1;32m--> <a href='file:///c%3A/Users/anurag.bisen/AppData/Roaming/Python/Python310/site-packages/urllib3/connection.py?line=204'>205</a>\u001b[0m     conn \u001b[39m=\u001b[39m \u001b[39mself\u001b[39;49m\u001b[39m.\u001b[39;49m_new_conn()\n\u001b[0;32m    <a href='file:///c%3A/Users/anurag.bisen/AppData/Roaming/Python/Python310/site-packages/urllib3/connection.py?line=205'>206</a>\u001b[0m     \u001b[39mself\u001b[39m\u001b[39m.\u001b[39m_prepare_conn(conn)\n",
      "File \u001b[1;32m~\\AppData\\Roaming\\Python\\Python310\\site-packages\\urllib3\\connection.py:174\u001b[0m, in \u001b[0;36mHTTPConnection._new_conn\u001b[1;34m(self)\u001b[0m\n\u001b[0;32m    <a href='file:///c%3A/Users/anurag.bisen/AppData/Roaming/Python/Python310/site-packages/urllib3/connection.py?line=170'>171</a>\u001b[0m     extra_kw[\u001b[39m\"\u001b[39m\u001b[39msocket_options\u001b[39m\u001b[39m\"\u001b[39m] \u001b[39m=\u001b[39m \u001b[39mself\u001b[39m\u001b[39m.\u001b[39msocket_options\n\u001b[0;32m    <a href='file:///c%3A/Users/anurag.bisen/AppData/Roaming/Python/Python310/site-packages/urllib3/connection.py?line=172'>173</a>\u001b[0m \u001b[39mtry\u001b[39;00m:\n\u001b[1;32m--> <a href='file:///c%3A/Users/anurag.bisen/AppData/Roaming/Python/Python310/site-packages/urllib3/connection.py?line=173'>174</a>\u001b[0m     conn \u001b[39m=\u001b[39m connection\u001b[39m.\u001b[39mcreate_connection(\n\u001b[0;32m    <a href='file:///c%3A/Users/anurag.bisen/AppData/Roaming/Python/Python310/site-packages/urllib3/connection.py?line=174'>175</a>\u001b[0m         (\u001b[39mself\u001b[39m\u001b[39m.\u001b[39m_dns_host, \u001b[39mself\u001b[39m\u001b[39m.\u001b[39mport), \u001b[39mself\u001b[39m\u001b[39m.\u001b[39mtimeout, \u001b[39m*\u001b[39m\u001b[39m*\u001b[39mextra_kw\n\u001b[0;32m    <a href='file:///c%3A/Users/anurag.bisen/AppData/Roaming/Python/Python310/site-packages/urllib3/connection.py?line=175'>176</a>\u001b[0m     )\n\u001b[0;32m    <a href='file:///c%3A/Users/anurag.bisen/AppData/Roaming/Python/Python310/site-packages/urllib3/connection.py?line=177'>178</a>\u001b[0m \u001b[39mexcept\u001b[39;00m SocketTimeout:\n\u001b[0;32m    <a href='file:///c%3A/Users/anurag.bisen/AppData/Roaming/Python/Python310/site-packages/urllib3/connection.py?line=178'>179</a>\u001b[0m     \u001b[39mraise\u001b[39;00m ConnectTimeoutError(\n\u001b[0;32m    <a href='file:///c%3A/Users/anurag.bisen/AppData/Roaming/Python/Python310/site-packages/urllib3/connection.py?line=179'>180</a>\u001b[0m         \u001b[39mself\u001b[39m,\n\u001b[0;32m    <a href='file:///c%3A/Users/anurag.bisen/AppData/Roaming/Python/Python310/site-packages/urllib3/connection.py?line=180'>181</a>\u001b[0m         \u001b[39m\"\u001b[39m\u001b[39mConnection to \u001b[39m\u001b[39m%s\u001b[39;00m\u001b[39m timed out. (connect timeout=\u001b[39m\u001b[39m%s\u001b[39;00m\u001b[39m)\u001b[39m\u001b[39m\"\u001b[39m\n\u001b[0;32m    <a href='file:///c%3A/Users/anurag.bisen/AppData/Roaming/Python/Python310/site-packages/urllib3/connection.py?line=181'>182</a>\u001b[0m         \u001b[39m%\u001b[39m (\u001b[39mself\u001b[39m\u001b[39m.\u001b[39mhost, \u001b[39mself\u001b[39m\u001b[39m.\u001b[39mtimeout),\n\u001b[0;32m    <a href='file:///c%3A/Users/anurag.bisen/AppData/Roaming/Python/Python310/site-packages/urllib3/connection.py?line=182'>183</a>\u001b[0m     )\n",
      "File \u001b[1;32m~\\AppData\\Roaming\\Python\\Python310\\site-packages\\urllib3\\util\\connection.py:85\u001b[0m, in \u001b[0;36mcreate_connection\u001b[1;34m(address, timeout, source_address, socket_options)\u001b[0m\n\u001b[0;32m     <a href='file:///c%3A/Users/anurag.bisen/AppData/Roaming/Python/Python310/site-packages/urllib3/util/connection.py?line=82'>83</a>\u001b[0m     \u001b[39mif\u001b[39;00m source_address:\n\u001b[0;32m     <a href='file:///c%3A/Users/anurag.bisen/AppData/Roaming/Python/Python310/site-packages/urllib3/util/connection.py?line=83'>84</a>\u001b[0m         sock\u001b[39m.\u001b[39mbind(source_address)\n\u001b[1;32m---> <a href='file:///c%3A/Users/anurag.bisen/AppData/Roaming/Python/Python310/site-packages/urllib3/util/connection.py?line=84'>85</a>\u001b[0m     sock\u001b[39m.\u001b[39;49mconnect(sa)\n\u001b[0;32m     <a href='file:///c%3A/Users/anurag.bisen/AppData/Roaming/Python/Python310/site-packages/urllib3/util/connection.py?line=85'>86</a>\u001b[0m     \u001b[39mreturn\u001b[39;00m sock\n\u001b[0;32m     <a href='file:///c%3A/Users/anurag.bisen/AppData/Roaming/Python/Python310/site-packages/urllib3/util/connection.py?line=87'>88</a>\u001b[0m \u001b[39mexcept\u001b[39;00m socket\u001b[39m.\u001b[39merror \u001b[39mas\u001b[39;00m e:\n",
      "\u001b[1;31mKeyboardInterrupt\u001b[0m: "
     ]
    }
   ],
   "source": [
    "import string\n",
    "import requests\n",
    "import json\n",
    "import pandas as pd\n",
    "\n",
    "\n",
    "username = \"admin\"\n",
    "password = \"Ctadmin@123\"\n",
    "start1=0\n",
    "\n",
    "url=\"http://54.215.87.148:8080/rest/api/2/user/search?username=\"\n",
    "letters=[]\n",
    "name_list=[]\n",
    "self_list=[]\n",
    "key_list=[]\n",
    "email_list=[]\n",
    "Displayname_list=[]\n",
    "Active_list=[]\n",
    "del_list=[]\n",
    "Timezone_list=[]\n",
    "locel_list=[]\n",
    "list48=[]\n",
    "list24=[]\n",
    "list16=[]\n",
    "list32=[]\n",
    "\n",
    "temp=1\n",
    "\n",
    "for letter in string.ascii_lowercase:\n",
    "   letters.append(letter)\n",
    "\n",
    "\n",
    "for letter in letters:\n",
    "\n",
    "  \n",
    "    \n",
    "  response_API = requests.get(url+letter+\"&maxResults=100\"+\"&startAt=\"+str(start1),auth=(username,password))\n",
    "  data1=response_API.text\n",
    "  parse_json = json.loads(data1)\n",
    "  a=len(parse_json)\n",
    "  if (a==0):\n",
    "    temp=0\n",
    "\n",
    "  \n",
    "  for i in range(a):\n",
    "\n",
    "    b=parse_json[i]['name']\n",
    "    if b not in name_list:\n",
    "      name_list.append(b)\n",
    "\n",
    "      c=parse_json[i]['emailAddress']\n",
    "      email_list.append(c)\n",
    "\n",
    "      d=parse_json[i]['key']\n",
    "      key_list.append(d)\n",
    "      \n",
    "      e=parse_json[i]['displayName']\n",
    "      Displayname_list.append(e)\n",
    "\n",
    "      f=parse_json[i]['active']\n",
    "      Active_list.append(f)\n",
    "\n",
    "      g=parse_json[i]['deleted']\n",
    "      del_list.append(g)\n",
    "\n",
    "      h=parse_json[i]['timeZone']\n",
    "      Timezone_list.append(h)\n",
    "\n",
    "      j=parse_json[i]['locale']\n",
    "      locel_list.append(j)\n",
    "\n",
    "      k=parse_json[i]['avatarUrls']['16x16']\n",
    "      list16.append(k)\n",
    "\n",
    "      l=parse_json[i]['avatarUrls']['24x24']\n",
    "      list24.append(l)\n",
    "\n",
    "      m=parse_json[i]['avatarUrls']['32x32']\n",
    "      list32.append(m)\n",
    "\n",
    "      n=parse_json[i]['avatarUrls']['48x48']\n",
    "      list48.append(n)\n",
    "\n",
    "      o=parse_json[i]['self']\n",
    "      self_list.append(o)\n",
    "\n",
    "      start1=start1+100\n",
    "\n",
    "\"\"\"print(len(name_list),len(key_list),len(email_list),len(list16),len(list24),len(list32),len(list48),len(locel_list),len(Displayname_list),len(self_list),\n",
    "len(Active_list),len(del_list),len(Timezone_list))\"\"\"\n",
    "\n",
    "      \n",
    "    \n",
    "\n",
    "\n",
    "df=pd.DataFrame({\n",
    "  'Name':name_list,\n",
    "  'Email':email_list,\n",
    "  'Key':key_list,\n",
    "  'Display Name':Displayname_list,\n",
    "  'Active':Active_list,\n",
    "  'Deleted':del_list,\n",
    "  'TimeZone':Timezone_list,\n",
    "  'Locale':locel_list,\n",
    "  'Self':self_list,\n",
    "  'AvtarUrl 16x16':list16,\n",
    "  'AvtarUrl 24x24':list24,\n",
    "  'AvtarUrl 32x32':list32,\n",
    "  'AvtarUrl 48x48':list48\n",
    "\n",
    "})\n",
    "\n",
    "df.to_csv('Users_data15.csv')\n",
    "\n",
    "print(\"Done...\")\n"
   ]
  },
  {
   "cell_type": "code",
   "execution_count": 59,
   "metadata": {},
   "outputs": [],
   "source": [
    "import string\n",
    "import requests\n",
    "import json\n",
    "import pandas as pd\n",
    "\n",
    "\n",
    "username = \"admin\"\n",
    "password = \"Ctadmin@123\"\n",
    "url=\"http://54.215.87.148:8080/rest/api/2/user/search?username=k&maxResults=100&startAt=100\"\n",
    "\n",
    "response_API = requests.get(url1,auth=(username,password))\n",
    "data1=response_API.text\n",
    "parse_json = json.loads(data1)"
   ]
  },
  {
   "cell_type": "code",
   "execution_count": 60,
   "metadata": {},
   "outputs": [
    {
     "data": {
      "text/plain": [
       "[]"
      ]
     },
     "execution_count": 60,
     "metadata": {},
     "output_type": "execute_result"
    }
   ],
   "source": [
    "parse_json"
   ]
  },
  {
   "cell_type": "code",
   "execution_count": 42,
   "metadata": {},
   "outputs": [
    {
     "data": {
      "text/plain": [
       "True"
      ]
     },
     "execution_count": 42,
     "metadata": {},
     "output_type": "execute_result"
    }
   ],
   "source": [
    "len(parse_json)==0"
   ]
  },
  {
   "cell_type": "code",
   "execution_count": null,
   "metadata": {},
   "outputs": [],
   "source": [
    "import string\n",
    "import requests\n",
    "import json\n",
    "import pandas as pd\n",
    "\n",
    "\n",
    "username = \"admin\"\n",
    "password = \"Ctadmin@123\"\n",
    "url=\"http://54.215.87.148:8080/rest/api/2/user/search?username=k&maxResults=100&startAt=100\"\n",
    "\n",
    "response_API = requests.get(url,auth=(username,password))\n",
    "data1=response_API.text\n",
    "parse_json = json.loads(data1)"
   ]
  },
  {
   "cell_type": "code",
   "execution_count": 56,
   "metadata": {},
   "outputs": [],
   "source": [
    "A=100"
   ]
  },
  {
   "cell_type": "code",
   "execution_count": 57,
   "metadata": {},
   "outputs": [],
   "source": [
    "B=100"
   ]
  },
  {
   "cell_type": "code",
   "execution_count": 58,
   "metadata": {},
   "outputs": [],
   "source": [
    "url1=\"http://54.215.87.148:8080/rest/api/2/user/search?username=k\"+\"&maxResults=\"+str(A)+\"&startAt=\"+str(B)"
   ]
  },
  {
   "cell_type": "code",
   "execution_count": 54,
   "metadata": {},
   "outputs": [
    {
     "data": {
      "text/plain": [
       "'http://54.215.87.148:8080/rest/api/2/user/search?username=k&100&100'"
      ]
     },
     "execution_count": 54,
     "metadata": {},
     "output_type": "execute_result"
    }
   ],
   "source": [
    "url1"
   ]
  },
  {
   "cell_type": "code",
   "execution_count": 62,
   "metadata": {},
   "outputs": [
    {
     "data": {
      "text/plain": [
       "'http://54.215.87.148:8080/rest/api/2/user/search?username=a&maxResults=100startAt=0'"
      ]
     },
     "execution_count": 62,
     "metadata": {},
     "output_type": "execute_result"
    }
   ],
   "source": [
    "a=url+letter+\"&maxResults=\"+str(max1)+\"startAt=\"+str(start1)\n",
    "a"
   ]
  },
  {
   "cell_type": "code",
   "execution_count": 74,
   "metadata": {},
   "outputs": [
    {
     "name": "stdout",
     "output_type": "stream",
     "text": [
      "Done...\n"
     ]
    }
   ],
   "source": [
    "import string\n",
    "import requests\n",
    "import json\n",
    "import pandas as pd\n",
    "\n",
    "\n",
    "username = \"admin\"\n",
    "password = \"Ctadmin@123\"\n",
    "\n",
    "url=\"http://54.215.87.148:8080/rest/api/2/user/search?username=\"\n",
    "letters=[]\n",
    "name_list=[]\n",
    "self_list=[]\n",
    "key_list=[]\n",
    "email_list=[]\n",
    "Displayname_list=[]\n",
    "Active_list=[]\n",
    "del_list=[]\n",
    "Timezone_list=[]\n",
    "locel_list=[]\n",
    "list48=[]\n",
    "list24=[]\n",
    "list16=[]\n",
    "list32=[]\n",
    "\n",
    "temp=1\n",
    "\n",
    "for letter in string.ascii_lowercase:\n",
    "   letters.append(letter)\n",
    "\n",
    "\n",
    "for letter in letters:\n",
    "\n",
    "    start1=0\n",
    "    \n",
    "    while(1):\n",
    "        \n",
    "        response_API = requests.get(url+letter+\"&maxResults=100\"+\"&startAt=\"+str(start1),auth=(username,password))\n",
    "        data1=response_API.text\n",
    "        parse_json = json.loads(data1)\n",
    "        a=len(parse_json)\n",
    "\n",
    "        if (a==0):\n",
    "            break\n",
    "\n",
    "        start1=start1+100\n",
    "        for i in range(a):\n",
    "\n",
    "            b=parse_json[i]['name']\n",
    "            if b not in name_list:\n",
    "                name_list.append(b)\n",
    "\n",
    "                c=parse_json[i]['emailAddress']\n",
    "                email_list.append(c)\n",
    "\n",
    "                d=parse_json[i]['key']\n",
    "                key_list.append(d)\n",
    "                \n",
    "                e=parse_json[i]['displayName']\n",
    "                Displayname_list.append(e)\n",
    "\n",
    "                f=parse_json[i]['active']\n",
    "                Active_list.append(f)\n",
    "\n",
    "                g=parse_json[i]['deleted']\n",
    "                del_list.append(g)\n",
    "\n",
    "                h=parse_json[i]['timeZone']\n",
    "                Timezone_list.append(h)\n",
    "\n",
    "                j=parse_json[i]['locale']\n",
    "                locel_list.append(j)\n",
    "\n",
    "                k=parse_json[i]['avatarUrls']['16x16']\n",
    "                list16.append(k)\n",
    "\n",
    "                l=parse_json[i]['avatarUrls']['24x24']\n",
    "                list24.append(l)\n",
    "\n",
    "                m=parse_json[i]['avatarUrls']['32x32']\n",
    "                list32.append(m)\n",
    "\n",
    "                n=parse_json[i]['avatarUrls']['48x48']\n",
    "                list48.append(n)\n",
    "\n",
    "                o=parse_json[i]['self']\n",
    "                self_list.append(o)\n",
    "\n",
    "\n",
    "\"\"\"print(len(name_list),len(key_list),len(email_list),len(list16),len(list24),len(list32),len(list48),len(locel_list),len(Displayname_list),len(self_list),\n",
    "len(Active_list),len(del_list),len(Timezone_list))\"\"\"\n",
    "\n",
    "      \n",
    "    \n",
    "\n",
    "\n",
    "df=pd.DataFrame({\n",
    "  'Name':name_list,\n",
    "  'Email':email_list,\n",
    "  'Key':key_list,\n",
    "  'Display Name':Displayname_list,\n",
    "  'Active':Active_list,\n",
    "  'Deleted':del_list,\n",
    "  'TimeZone':Timezone_list,\n",
    "  'Locale':locel_list,\n",
    "  'Self':self_list,\n",
    "  'AvtarUrl 16x16':list16,\n",
    "  'AvtarUrl 24x24':list24,\n",
    "  'AvtarUrl 32x32':list32,\n",
    "  'AvtarUrl 48x48':list48\n",
    "\n",
    "})\n",
    "\n",
    "df.to_csv('Users_data17.csv')\n",
    "\n",
    "print(\"Done...\")\n"
   ]
  }
 ],
 "metadata": {
  "interpreter": {
   "hash": "26de051ba29f2982a8de78e945f0abaf191376122a1563185a90213a26c5da77"
  },
  "kernelspec": {
   "display_name": "Python 3.10.4 64-bit",
   "language": "python",
   "name": "python3"
  },
  "language_info": {
   "codemirror_mode": {
    "name": "ipython",
    "version": 3
   },
   "file_extension": ".py",
   "mimetype": "text/x-python",
   "name": "python",
   "nbconvert_exporter": "python",
   "pygments_lexer": "ipython3",
   "version": "3.10.4"
  },
  "orig_nbformat": 4
 },
 "nbformat": 4,
 "nbformat_minor": 2
}
